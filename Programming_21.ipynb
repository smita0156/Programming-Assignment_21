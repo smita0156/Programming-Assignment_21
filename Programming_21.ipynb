{
 "cells": [
  {
   "cell_type": "code",
   "execution_count": null,
   "id": "c3fe046a-4522-4738-848a-163c9745017b",
   "metadata": {},
   "outputs": [],
   "source": [
    "Question1\n",
    "Write a function that takes a list and a number as arguments. Add the number to the end of\n",
    "the list, then remove the first element of the list. The function should then return the updated\n",
    "list.\n",
    "Examples\n",
    "next_in_line([5, 6, 7, 8, 9], 1) ➞ [6, 7, 8, 9, 1]\n",
    "next_in_line([7, 6, 3, 23, 17], 10) ➞ [6, 3, 23, 17, 10]\n",
    "next_in_line([1, 10, 20, 42 ], 6) ➞ [10, 20, 42, 6]\n",
    "next_in_line([], 6) ➞ &quot;No list has been selected&quot;"
   ]
  },
  {
   "cell_type": "code",
   "execution_count": 1,
   "id": "6013921b-a8d0-4d95-98b4-b3bb7c44d82f",
   "metadata": {},
   "outputs": [],
   "source": [
    "\n",
    "lst = [5, 6, 7, 8, 9]\n",
    "def next_in_line(lst,num):\n",
    "    if len(lst) > 0 :\n",
    "        lst.append(num)\n",
    "        return lst[1:]\n",
    "    else:\n",
    "        print(\"'No list has been selected'\")\n",
    "\n",
    "     "
   ]
  },
  {
   "cell_type": "code",
   "execution_count": 3,
   "id": "eceaeb35-e3f8-438b-a0ee-d2f5e22d1dc2",
   "metadata": {},
   "outputs": [
    {
     "data": {
      "text/plain": [
       "[6, 7, 8, 9, 1]"
      ]
     },
     "execution_count": 3,
     "metadata": {},
     "output_type": "execute_result"
    }
   ],
   "source": [
    "\n",
    "next_in_line([5, 6, 7, 8, 9], 1)\n",
    "\n",
    "     "
   ]
  },
  {
   "cell_type": "code",
   "execution_count": 4,
   "id": "4a55dc3d-1edf-4eb5-9df4-13f95e08348a",
   "metadata": {},
   "outputs": [
    {
     "data": {
      "text/plain": [
       "[10, 20, 42, 6]"
      ]
     },
     "execution_count": 4,
     "metadata": {},
     "output_type": "execute_result"
    }
   ],
   "source": [
    "\n",
    " next_in_line([1, 10, 20, 42 ], 6)\n",
    "     "
   ]
  },
  {
   "cell_type": "code",
   "execution_count": 5,
   "id": "86c82219-4be6-4de2-8936-25a4be82d1fe",
   "metadata": {},
   "outputs": [
    {
     "name": "stdout",
     "output_type": "stream",
     "text": [
      "'No list has been selected'\n"
     ]
    }
   ],
   "source": [
    "\n",
    "next_in_line([], 6) \n",
    "     "
   ]
  },
  {
   "cell_type": "code",
   "execution_count": null,
   "id": "798a604f-d608-40d3-9f4d-28061bb8a718",
   "metadata": {},
   "outputs": [],
   "source": [
    "Question2\n",
    "Create the function that takes a list of dictionaries and returns the sum of people&#39;s budgets.\n",
    "Examples\n",
    "get_budgets([\n",
    "{ &quot;name&quot;: &quot;John&quot;, &quot;age&quot;: 21, &quot;budget&quot;: 23000 },\n",
    "{ &quot;name&quot;: &quot;Steve&quot;, &quot;age&quot;: 32, &quot;budget&quot;: 40000 },\n",
    "{ &quot;name&quot;: &quot;Martin&quot;, &quot;age&quot;: 16, &quot;budget&quot;: 2700 }\n",
    "]) ➞ 65700\n",
    "get_budgets([\n",
    "{ &quot;name&quot;: &quot;John&quot;, &quot;age&quot;: 21, &quot;budget&quot;: 29000 },\n",
    "{ &quot;name&quot;: &quot;Steve&quot;, &quot;age&quot;: 32, &quot;budget&quot;: 32000 },\n",
    "{ &quot;name&quot;: &quot;Martin&quot;, &quot;age&quot;: 16, &quot;budget&quot;: 1600 }\n",
    "]) ➞ 62600"
   ]
  },
  {
   "cell_type": "code",
   "execution_count": 8,
   "id": "75e8077b-a8d9-4ebc-ad15-25b407098dd2",
   "metadata": {},
   "outputs": [],
   "source": [
    "\n",
    "def get_budgets(listDict):\n",
    "    sum = 0\n",
    "    for dc in listDict:\n",
    "        for k,v in dc.items():\n",
    "            if k == 'budget':\n",
    "                sum = sum + v\n",
    "    return sum\n",
    "     "
   ]
  },
  {
   "cell_type": "code",
   "execution_count": 9,
   "id": "8ca59a42-3691-4e3f-be63-e97a2156f028",
   "metadata": {},
   "outputs": [
    {
     "data": {
      "text/plain": [
       "65700"
      ]
     },
     "execution_count": 9,
     "metadata": {},
     "output_type": "execute_result"
    }
   ],
   "source": [
    "\n",
    "get_budgets([\n",
    "{ 'name': 'John', 'age': 21, 'budget': 23000 },\n",
    "{ 'name': 'Steve', 'age': 32, 'budget': 40000 },\n",
    "{ 'name': 'Martin', 'age': 16, 'budget': 2700 }\n",
    "])\n",
    "     "
   ]
  },
  {
   "cell_type": "code",
   "execution_count": null,
   "id": "30271373-519b-46f5-9b4b-2b565b067bfa",
   "metadata": {},
   "outputs": [],
   "source": [
    "65700\n"
   ]
  },
  {
   "cell_type": "code",
   "execution_count": null,
   "id": "0c2a0755-3baf-4064-8db7-848571e8969e",
   "metadata": {},
   "outputs": [],
   "source": [
    "\n",
    "get_budgets([\n",
    "{ 'name': 'John', 'age': 21, 'budget': 29000 },\n",
    "{ 'name': 'Steve', 'age': 32, 'budget': 32000 },\n",
    "{ 'name': 'Martin', 'age': 16, 'budget': 1600 }\n",
    "])\n",
    "     "
   ]
  },
  {
   "cell_type": "code",
   "execution_count": null,
   "id": "f2dea425-6d0c-4f77-93b4-a0cdb43b59c4",
   "metadata": {},
   "outputs": [],
   "source": [
    "62600"
   ]
  },
  {
   "cell_type": "code",
   "execution_count": null,
   "id": "259645a5-ffe1-42ae-99fe-953ecb11c52d",
   "metadata": {},
   "outputs": [],
   "source": [
    "Question3\n",
    "Create a function that takes a string and returns a string with its letters in alphabetical order.\n",
    "Examples\n",
    "alphabet_soup(&quot;hello&quot;) ➞ &quot;ehllo&quot;\n",
    "alphabet_soup(&quot;edabit&quot;) ➞ &quot;abdeit&quot;\n",
    "alphabet_soup(&quot;hacker&quot;) ➞ &quot;acehkr&quot;\n",
    "alphabet_soup(&quot;geek&quot;) ➞ &quot;eegk&quot;\n",
    "alphabet_soup(&quot;javascript&quot;) ➞ &quot;aacijprstv&quot;"
   ]
  },
  {
   "cell_type": "code",
   "execution_count": 10,
   "id": "5077a924-0b8a-43db-9ab9-997dd33566cb",
   "metadata": {},
   "outputs": [],
   "source": [
    "\n",
    "def alphabet_soup(str):\n",
    "    return ''.join(sorted(str))\n",
    "     "
   ]
  },
  {
   "cell_type": "code",
   "execution_count": 11,
   "id": "cf380e15-c18d-473a-b316-04d41779361b",
   "metadata": {},
   "outputs": [
    {
     "data": {
      "text/plain": [
       "'ehllo'"
      ]
     },
     "execution_count": 11,
     "metadata": {},
     "output_type": "execute_result"
    }
   ],
   "source": [
    "\n",
    "alphabet_soup('hello')\n",
    "\n",
    "     "
   ]
  },
  {
   "cell_type": "code",
   "execution_count": 12,
   "id": "e1f9ed16-71c8-4156-96af-77096ec7b527",
   "metadata": {},
   "outputs": [
    {
     "data": {
      "text/plain": [
       "'abdeit'"
      ]
     },
     "execution_count": 12,
     "metadata": {},
     "output_type": "execute_result"
    }
   ],
   "source": [
    "\n",
    "alphabet_soup('edabit')\n",
    "\n",
    "     "
   ]
  },
  {
   "cell_type": "code",
   "execution_count": 13,
   "id": "c2bdbc93-07f9-4f17-9b22-0f566f1493e6",
   "metadata": {},
   "outputs": [
    {
     "data": {
      "text/plain": [
       "'acehkr'"
      ]
     },
     "execution_count": 13,
     "metadata": {},
     "output_type": "execute_result"
    }
   ],
   "source": [
    "\n",
    "alphabet_soup('hacker')\n",
    "\n",
    "     "
   ]
  },
  {
   "cell_type": "code",
   "execution_count": 14,
   "id": "d8b5632e-2f97-4377-aa54-16dc8ce73742",
   "metadata": {},
   "outputs": [
    {
     "data": {
      "text/plain": [
       "'eegk'"
      ]
     },
     "execution_count": 14,
     "metadata": {},
     "output_type": "execute_result"
    }
   ],
   "source": [
    "\n",
    "alphabet_soup('geek')\n",
    "\n",
    "     "
   ]
  },
  {
   "cell_type": "code",
   "execution_count": 15,
   "id": "e7db0c07-330f-499d-81d1-88276e63dd49",
   "metadata": {},
   "outputs": [
    {
     "data": {
      "text/plain": [
       "'aacijprstv'"
      ]
     },
     "execution_count": 15,
     "metadata": {},
     "output_type": "execute_result"
    }
   ],
   "source": [
    "\n",
    "alphabet_soup('javascript')\n",
    "\n",
    "     "
   ]
  },
  {
   "cell_type": "code",
   "execution_count": null,
   "id": "5a364187-d5e3-4193-96a2-cfa2d1202bd0",
   "metadata": {},
   "outputs": [],
   "source": [
    "Question4\n",
    "Suppose that you invest $10,000 for 10 years at an interest rate of 6% compounded monthly.\n",
    "What will be the value of your investment at the end of the 10 year period?\n",
    "Create a function that accepts the principal p, the term in years t, the interest rate r, and the\n",
    "number of compounding periods per year n. The function returns the value at the end of term\n",
    "rounded to the nearest cent.\n",
    "For the example above:\n",
    "compound_interest(10000, 10, 0.06, 12) ➞ 18193.97\n",
    "Note that the interest rate is given as a decimal and n=12 because with monthly compounding\n",
    "there are 12 periods per year. Compounding can also be done annually, quarterly, weekly, or\n",
    "daily.\n",
    "Examples\n",
    "compound_interest(100, 1, 0.05, 1) ➞ 105.0\n",
    "compound_interest(3500, 15, 0.1, 4) ➞ 15399.26\n",
    "compound_interest(100000, 20, 0.15, 365) ➞ 2007316.26"
   ]
  },
  {
   "cell_type": "code",
   "execution_count": 16,
   "id": "55e717ec-c7a1-493a-b23a-ec5909ee23d1",
   "metadata": {},
   "outputs": [],
   "source": [
    "\n",
    "def compound_interest(amt, years, intrest, compPeriod):\n",
    "    future_value = amt *(1 + (intrest/compPeriod)) ** (years * compPeriod)\n",
    "    return round(future_value,2)\n",
    "     \n"
   ]
  },
  {
   "cell_type": "code",
   "execution_count": 17,
   "id": "b1c82720-a51c-4336-a176-2ccda1ca4d68",
   "metadata": {},
   "outputs": [
    {
     "data": {
      "text/plain": [
       "105.0"
      ]
     },
     "execution_count": 17,
     "metadata": {},
     "output_type": "execute_result"
    }
   ],
   "source": [
    "\n",
    "compound_interest(100, 1, 0.05, 1)\n",
    "\n",
    "     "
   ]
  },
  {
   "cell_type": "code",
   "execution_count": 18,
   "id": "4fa0ad30-4d8d-41ac-bc65-4ad44de9441f",
   "metadata": {},
   "outputs": [
    {
     "data": {
      "text/plain": [
       "15399.26"
      ]
     },
     "execution_count": 18,
     "metadata": {},
     "output_type": "execute_result"
    }
   ],
   "source": [
    "\n",
    "compound_interest(3500, 15, 0.1, 4)\n",
    "\n",
    "     "
   ]
  },
  {
   "cell_type": "code",
   "execution_count": 19,
   "id": "d442f1e7-232b-44d7-b19e-7e9995570e82",
   "metadata": {},
   "outputs": [
    {
     "data": {
      "text/plain": [
       "2007316.26"
      ]
     },
     "execution_count": 19,
     "metadata": {},
     "output_type": "execute_result"
    }
   ],
   "source": [
    "\n",
    "compound_interest(100000, 20, 0.15, 365)\n",
    "\n",
    "     "
   ]
  },
  {
   "cell_type": "code",
   "execution_count": null,
   "id": "023296ef-a7a2-415b-bc03-71c699f0a55e",
   "metadata": {},
   "outputs": [],
   "source": [
    "Question5\n",
    "Write a function that takes a list of elements and returns only the integers.\n",
    "Examples\n",
    "return_only_integer([9, 2, &quot;space&quot;, &quot;car&quot;, &quot;lion&quot;, 16]) ➞ [9, 2, 16]\n",
    "return_only_integer([&quot;hello&quot;, 81, &quot;basketball&quot;, 123, &quot;fox&quot;]) ➞ [81, 123]\n",
    "return_only_integer([10, &quot;121&quot;, 56, 20, &quot;car&quot;, 3, &quot;lion&quot;]) ➞ [10, 56, 20,\n",
    "3]\n",
    "return_only_integer([&quot;String&quot;, True, 3.3, 1]) ➞ [1]"
   ]
  },
  {
   "cell_type": "code",
   "execution_count": 20,
   "id": "9774cfc5-f5a6-4a09-b7e6-b230c1911680",
   "metadata": {},
   "outputs": [],
   "source": [
    "\n",
    "def return_only_integer(lst):\n",
    "    int_list = []\n",
    "    for i in lst:\n",
    "        if type(i) == int:\n",
    "            int_list.append(i)\n",
    "    return int_list\n",
    "     "
   ]
  },
  {
   "cell_type": "code",
   "execution_count": 21,
   "id": "0f785978-0de3-49bc-917a-769ad55274d2",
   "metadata": {},
   "outputs": [
    {
     "data": {
      "text/plain": [
       "[9, 2, 16]"
      ]
     },
     "execution_count": 21,
     "metadata": {},
     "output_type": "execute_result"
    }
   ],
   "source": [
    "\n",
    "return_only_integer([9, 2, 'space', 'car', 'lion', 16])\n",
    "\n",
    "     "
   ]
  },
  {
   "cell_type": "code",
   "execution_count": 22,
   "id": "306fc1bc-9fa0-49f7-9ea8-d3aff775e8e8",
   "metadata": {},
   "outputs": [
    {
     "data": {
      "text/plain": [
       "[81, 123]"
      ]
     },
     "execution_count": 22,
     "metadata": {},
     "output_type": "execute_result"
    }
   ],
   "source": [
    "\n",
    "return_only_integer(['hello', 81, 'basketball', 123, 'fox'])\n",
    "\n",
    "     "
   ]
  },
  {
   "cell_type": "code",
   "execution_count": 23,
   "id": "846c63cd-d82f-4a55-8c97-3268ebe04349",
   "metadata": {},
   "outputs": [
    {
     "data": {
      "text/plain": [
       "[10, 56, 20, 3]"
      ]
     },
     "execution_count": 23,
     "metadata": {},
     "output_type": "execute_result"
    }
   ],
   "source": [
    "\n",
    "return_only_integer([10, '121', 56, 20, 'car', 3, 'lion'])\n",
    "\n",
    "     "
   ]
  },
  {
   "cell_type": "code",
   "execution_count": 24,
   "id": "90ccb8ce-43a2-4297-b89e-3c05067862f3",
   "metadata": {},
   "outputs": [
    {
     "data": {
      "text/plain": [
       "[1]"
      ]
     },
     "execution_count": 24,
     "metadata": {},
     "output_type": "execute_result"
    }
   ],
   "source": [
    "\n",
    "return_only_integer(['String', True, 3.3, 1])\n",
    "\n",
    "     \n"
   ]
  }
 ],
 "metadata": {
  "kernelspec": {
   "display_name": "Python 3 (ipykernel)",
   "language": "python",
   "name": "python3"
  },
  "language_info": {
   "codemirror_mode": {
    "name": "ipython",
    "version": 3
   },
   "file_extension": ".py",
   "mimetype": "text/x-python",
   "name": "python",
   "nbconvert_exporter": "python",
   "pygments_lexer": "ipython3",
   "version": "3.10.6"
  }
 },
 "nbformat": 4,
 "nbformat_minor": 5
}
